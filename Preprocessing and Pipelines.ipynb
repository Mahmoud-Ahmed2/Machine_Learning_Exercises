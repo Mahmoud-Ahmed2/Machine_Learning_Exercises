{
 "cells": [
  {
   "cell_type": "markdown",
   "metadata": {},
   "source": [
    "## Preprocessing and Pipeline"
   ]
  },
  {
   "cell_type": "code",
   "execution_count": 37,
   "metadata": {},
   "outputs": [
    {
     "name": "stdout",
     "output_type": "stream",
     "text": [
      "Shape of music_df: (1000, 12)\n"
     ]
    }
   ],
   "source": [
    "import pandas as pd\n",
    "from urllib.request import urlretrieve\n",
    "link = \"https://assets.datacamp.com/production/repositories/5981/datasets/fea5cd4c72c2346dafffb0a5ae425006968f4e00/music_ch4_l1.csv\"\n",
    "music_df = pd.read_csv(urlretrieve(link, 'music_ch4_l1.csv')[0])\n",
    "print(\"Shape of music_df: {}\".format(music_df.shape))"
   ]
  },
  {
   "cell_type": "code",
   "execution_count": 38,
   "metadata": {},
   "outputs": [
    {
     "data": {
      "text/html": [
       "<div>\n",
       "<style scoped>\n",
       "    .dataframe tbody tr th:only-of-type {\n",
       "        vertical-align: middle;\n",
       "    }\n",
       "\n",
       "    .dataframe tbody tr th {\n",
       "        vertical-align: top;\n",
       "    }\n",
       "\n",
       "    .dataframe thead th {\n",
       "        text-align: right;\n",
       "    }\n",
       "</style>\n",
       "<table border=\"1\" class=\"dataframe\">\n",
       "  <thead>\n",
       "    <tr style=\"text-align: right;\">\n",
       "      <th></th>\n",
       "      <th>popularity</th>\n",
       "      <th>acousticness</th>\n",
       "      <th>danceability</th>\n",
       "      <th>duration_ms</th>\n",
       "      <th>energy</th>\n",
       "      <th>instrumentalness</th>\n",
       "      <th>liveness</th>\n",
       "      <th>loudness</th>\n",
       "      <th>speechiness</th>\n",
       "      <th>tempo</th>\n",
       "      <th>valence</th>\n",
       "      <th>genre</th>\n",
       "    </tr>\n",
       "  </thead>\n",
       "  <tbody>\n",
       "    <tr>\n",
       "      <th>0</th>\n",
       "      <td>41.0</td>\n",
       "      <td>0.6440</td>\n",
       "      <td>0.823</td>\n",
       "      <td>236533.0</td>\n",
       "      <td>0.814</td>\n",
       "      <td>0.687</td>\n",
       "      <td>0.117</td>\n",
       "      <td>-5.611</td>\n",
       "      <td>0.177</td>\n",
       "      <td>102.619</td>\n",
       "      <td>0.649</td>\n",
       "      <td>Jazz</td>\n",
       "    </tr>\n",
       "    <tr>\n",
       "      <th>1</th>\n",
       "      <td>62.0</td>\n",
       "      <td>0.0855</td>\n",
       "      <td>0.686</td>\n",
       "      <td>154373.0</td>\n",
       "      <td>0.670</td>\n",
       "      <td>0.000</td>\n",
       "      <td>0.120</td>\n",
       "      <td>-7.626</td>\n",
       "      <td>0.225</td>\n",
       "      <td>173.915</td>\n",
       "      <td>0.636</td>\n",
       "      <td>Rap</td>\n",
       "    </tr>\n",
       "  </tbody>\n",
       "</table>\n",
       "</div>"
      ],
      "text/plain": [
       "   popularity  acousticness  danceability  duration_ms  energy  \\\n",
       "0        41.0        0.6440         0.823     236533.0   0.814   \n",
       "1        62.0        0.0855         0.686     154373.0   0.670   \n",
       "\n",
       "   instrumentalness  liveness  loudness  speechiness    tempo  valence genre  \n",
       "0             0.687     0.117    -5.611        0.177  102.619    0.649  Jazz  \n",
       "1             0.000     0.120    -7.626        0.225  173.915    0.636   Rap  "
      ]
     },
     "execution_count": 38,
     "metadata": {},
     "output_type": "execute_result"
    }
   ],
   "source": [
    "music_df.head(2)"
   ]
  },
  {
   "cell_type": "code",
   "execution_count": 39,
   "metadata": {},
   "outputs": [
    {
     "data": {
      "text/plain": [
       "popularity          float64\n",
       "acousticness        float64\n",
       "danceability        float64\n",
       "duration_ms         float64\n",
       "energy              float64\n",
       "instrumentalness    float64\n",
       "liveness            float64\n",
       "loudness            float64\n",
       "speechiness         float64\n",
       "tempo               float64\n",
       "valence             float64\n",
       "genre                object\n",
       "dtype: object"
      ]
     },
     "execution_count": 39,
     "metadata": {},
     "output_type": "execute_result"
    }
   ],
   "source": [
    "music_df.dtypes"
   ]
  },
  {
   "cell_type": "code",
   "execution_count": 40,
   "metadata": {},
   "outputs": [
    {
     "data": {
      "text/html": [
       "<div>\n",
       "<style scoped>\n",
       "    .dataframe tbody tr th:only-of-type {\n",
       "        vertical-align: middle;\n",
       "    }\n",
       "\n",
       "    .dataframe tbody tr th {\n",
       "        vertical-align: top;\n",
       "    }\n",
       "\n",
       "    .dataframe thead th {\n",
       "        text-align: right;\n",
       "    }\n",
       "</style>\n",
       "<table border=\"1\" class=\"dataframe\">\n",
       "  <thead>\n",
       "    <tr style=\"text-align: right;\">\n",
       "      <th></th>\n",
       "      <th>popularity</th>\n",
       "      <th>acousticness</th>\n",
       "      <th>danceability</th>\n",
       "      <th>duration_ms</th>\n",
       "      <th>energy</th>\n",
       "      <th>instrumentalness</th>\n",
       "      <th>liveness</th>\n",
       "      <th>loudness</th>\n",
       "      <th>speechiness</th>\n",
       "      <th>tempo</th>\n",
       "      <th>valence</th>\n",
       "      <th>genre</th>\n",
       "    </tr>\n",
       "  </thead>\n",
       "  <tbody>\n",
       "    <tr>\n",
       "      <th>count</th>\n",
       "      <td>1000.000000</td>\n",
       "      <td>1000.000000</td>\n",
       "      <td>1000.000000</td>\n",
       "      <td>1.000000e+03</td>\n",
       "      <td>1000.000000</td>\n",
       "      <td>1000.000000</td>\n",
       "      <td>1000.000000</td>\n",
       "      <td>1000.000000</td>\n",
       "      <td>1000.000000</td>\n",
       "      <td>1000.000000</td>\n",
       "      <td>1000.000000</td>\n",
       "      <td>1000</td>\n",
       "    </tr>\n",
       "    <tr>\n",
       "      <th>unique</th>\n",
       "      <td>NaN</td>\n",
       "      <td>NaN</td>\n",
       "      <td>NaN</td>\n",
       "      <td>NaN</td>\n",
       "      <td>NaN</td>\n",
       "      <td>NaN</td>\n",
       "      <td>NaN</td>\n",
       "      <td>NaN</td>\n",
       "      <td>NaN</td>\n",
       "      <td>NaN</td>\n",
       "      <td>NaN</td>\n",
       "      <td>10</td>\n",
       "    </tr>\n",
       "    <tr>\n",
       "      <th>top</th>\n",
       "      <td>NaN</td>\n",
       "      <td>NaN</td>\n",
       "      <td>NaN</td>\n",
       "      <td>NaN</td>\n",
       "      <td>NaN</td>\n",
       "      <td>NaN</td>\n",
       "      <td>NaN</td>\n",
       "      <td>NaN</td>\n",
       "      <td>NaN</td>\n",
       "      <td>NaN</td>\n",
       "      <td>NaN</td>\n",
       "      <td>Rock</td>\n",
       "    </tr>\n",
       "    <tr>\n",
       "      <th>freq</th>\n",
       "      <td>NaN</td>\n",
       "      <td>NaN</td>\n",
       "      <td>NaN</td>\n",
       "      <td>NaN</td>\n",
       "      <td>NaN</td>\n",
       "      <td>NaN</td>\n",
       "      <td>NaN</td>\n",
       "      <td>NaN</td>\n",
       "      <td>NaN</td>\n",
       "      <td>NaN</td>\n",
       "      <td>NaN</td>\n",
       "      <td>500</td>\n",
       "    </tr>\n",
       "    <tr>\n",
       "      <th>mean</th>\n",
       "      <td>51.660000</td>\n",
       "      <td>0.258649</td>\n",
       "      <td>0.542602</td>\n",
       "      <td>2.172204e+05</td>\n",
       "      <td>0.636464</td>\n",
       "      <td>0.137289</td>\n",
       "      <td>0.199993</td>\n",
       "      <td>-8.253305</td>\n",
       "      <td>0.077879</td>\n",
       "      <td>120.406497</td>\n",
       "      <td>0.480057</td>\n",
       "      <td>NaN</td>\n",
       "    </tr>\n",
       "    <tr>\n",
       "      <th>std</th>\n",
       "      <td>14.028585</td>\n",
       "      <td>0.307494</td>\n",
       "      <td>0.160322</td>\n",
       "      <td>1.175582e+05</td>\n",
       "      <td>0.237789</td>\n",
       "      <td>0.285558</td>\n",
       "      <td>0.160435</td>\n",
       "      <td>5.158523</td>\n",
       "      <td>0.089451</td>\n",
       "      <td>28.941857</td>\n",
       "      <td>0.237854</td>\n",
       "      <td>NaN</td>\n",
       "    </tr>\n",
       "    <tr>\n",
       "      <th>min</th>\n",
       "      <td>0.000000</td>\n",
       "      <td>0.000003</td>\n",
       "      <td>0.062400</td>\n",
       "      <td>-1.000000e+00</td>\n",
       "      <td>0.002510</td>\n",
       "      <td>0.000000</td>\n",
       "      <td>0.025400</td>\n",
       "      <td>-38.718000</td>\n",
       "      <td>0.023400</td>\n",
       "      <td>56.855000</td>\n",
       "      <td>0.029800</td>\n",
       "      <td>NaN</td>\n",
       "    </tr>\n",
       "    <tr>\n",
       "      <th>25%</th>\n",
       "      <td>43.750000</td>\n",
       "      <td>0.013275</td>\n",
       "      <td>0.444000</td>\n",
       "      <td>1.806562e+05</td>\n",
       "      <td>0.485750</td>\n",
       "      <td>0.000000</td>\n",
       "      <td>0.100000</td>\n",
       "      <td>-9.775500</td>\n",
       "      <td>0.033100</td>\n",
       "      <td>95.909750</td>\n",
       "      <td>0.306500</td>\n",
       "      <td>NaN</td>\n",
       "    </tr>\n",
       "    <tr>\n",
       "      <th>50%</th>\n",
       "      <td>54.000000</td>\n",
       "      <td>0.116000</td>\n",
       "      <td>0.548500</td>\n",
       "      <td>2.163000e+05</td>\n",
       "      <td>0.676500</td>\n",
       "      <td>0.000089</td>\n",
       "      <td>0.131000</td>\n",
       "      <td>-6.855000</td>\n",
       "      <td>0.043600</td>\n",
       "      <td>120.406497</td>\n",
       "      <td>0.473500</td>\n",
       "      <td>NaN</td>\n",
       "    </tr>\n",
       "    <tr>\n",
       "      <th>75%</th>\n",
       "      <td>62.000000</td>\n",
       "      <td>0.426500</td>\n",
       "      <td>0.657000</td>\n",
       "      <td>2.605025e+05</td>\n",
       "      <td>0.822500</td>\n",
       "      <td>0.042825</td>\n",
       "      <td>0.273250</td>\n",
       "      <td>-4.977750</td>\n",
       "      <td>0.074950</td>\n",
       "      <td>140.033000</td>\n",
       "      <td>0.654000</td>\n",
       "      <td>NaN</td>\n",
       "    </tr>\n",
       "    <tr>\n",
       "      <th>max</th>\n",
       "      <td>82.000000</td>\n",
       "      <td>0.996000</td>\n",
       "      <td>0.950000</td>\n",
       "      <td>1.617333e+06</td>\n",
       "      <td>0.995000</td>\n",
       "      <td>0.975000</td>\n",
       "      <td>0.991000</td>\n",
       "      <td>-0.883000</td>\n",
       "      <td>0.710000</td>\n",
       "      <td>207.852000</td>\n",
       "      <td>0.968000</td>\n",
       "      <td>NaN</td>\n",
       "    </tr>\n",
       "  </tbody>\n",
       "</table>\n",
       "</div>"
      ],
      "text/plain": [
       "         popularity  acousticness  danceability   duration_ms       energy  \\\n",
       "count   1000.000000   1000.000000   1000.000000  1.000000e+03  1000.000000   \n",
       "unique          NaN           NaN           NaN           NaN          NaN   \n",
       "top             NaN           NaN           NaN           NaN          NaN   \n",
       "freq            NaN           NaN           NaN           NaN          NaN   \n",
       "mean      51.660000      0.258649      0.542602  2.172204e+05     0.636464   \n",
       "std       14.028585      0.307494      0.160322  1.175582e+05     0.237789   \n",
       "min        0.000000      0.000003      0.062400 -1.000000e+00     0.002510   \n",
       "25%       43.750000      0.013275      0.444000  1.806562e+05     0.485750   \n",
       "50%       54.000000      0.116000      0.548500  2.163000e+05     0.676500   \n",
       "75%       62.000000      0.426500      0.657000  2.605025e+05     0.822500   \n",
       "max       82.000000      0.996000      0.950000  1.617333e+06     0.995000   \n",
       "\n",
       "        instrumentalness     liveness     loudness  speechiness        tempo  \\\n",
       "count        1000.000000  1000.000000  1000.000000  1000.000000  1000.000000   \n",
       "unique               NaN          NaN          NaN          NaN          NaN   \n",
       "top                  NaN          NaN          NaN          NaN          NaN   \n",
       "freq                 NaN          NaN          NaN          NaN          NaN   \n",
       "mean            0.137289     0.199993    -8.253305     0.077879   120.406497   \n",
       "std             0.285558     0.160435     5.158523     0.089451    28.941857   \n",
       "min             0.000000     0.025400   -38.718000     0.023400    56.855000   \n",
       "25%             0.000000     0.100000    -9.775500     0.033100    95.909750   \n",
       "50%             0.000089     0.131000    -6.855000     0.043600   120.406497   \n",
       "75%             0.042825     0.273250    -4.977750     0.074950   140.033000   \n",
       "max             0.975000     0.991000    -0.883000     0.710000   207.852000   \n",
       "\n",
       "            valence genre  \n",
       "count   1000.000000  1000  \n",
       "unique          NaN    10  \n",
       "top             NaN  Rock  \n",
       "freq            NaN   500  \n",
       "mean       0.480057   NaN  \n",
       "std        0.237854   NaN  \n",
       "min        0.029800   NaN  \n",
       "25%        0.306500   NaN  \n",
       "50%        0.473500   NaN  \n",
       "75%        0.654000   NaN  \n",
       "max        0.968000   NaN  "
      ]
     },
     "execution_count": 40,
     "metadata": {},
     "output_type": "execute_result"
    }
   ],
   "source": [
    "music_df.describe(include= 'all')\n"
   ]
  },
  {
   "cell_type": "code",
   "execution_count": 53,
   "metadata": {},
   "outputs": [
    {
     "data": {
      "text/html": [
       "<div>\n",
       "<style scoped>\n",
       "    .dataframe tbody tr th:only-of-type {\n",
       "        vertical-align: middle;\n",
       "    }\n",
       "\n",
       "    .dataframe tbody tr th {\n",
       "        vertical-align: top;\n",
       "    }\n",
       "\n",
       "    .dataframe thead th {\n",
       "        text-align: right;\n",
       "    }\n",
       "</style>\n",
       "<table border=\"1\" class=\"dataframe\">\n",
       "  <thead>\n",
       "    <tr style=\"text-align: right;\">\n",
       "      <th></th>\n",
       "      <th>Anime</th>\n",
       "      <th>Blues</th>\n",
       "      <th>Classical</th>\n",
       "      <th>Country</th>\n",
       "      <th>Electronic</th>\n",
       "      <th>Hip-Hop</th>\n",
       "      <th>Jazz</th>\n",
       "      <th>Rap</th>\n",
       "      <th>Rock</th>\n",
       "    </tr>\n",
       "  </thead>\n",
       "  <tbody>\n",
       "    <tr>\n",
       "      <th>0</th>\n",
       "      <td>False</td>\n",
       "      <td>False</td>\n",
       "      <td>False</td>\n",
       "      <td>False</td>\n",
       "      <td>False</td>\n",
       "      <td>False</td>\n",
       "      <td>True</td>\n",
       "      <td>False</td>\n",
       "      <td>False</td>\n",
       "    </tr>\n",
       "    <tr>\n",
       "      <th>1</th>\n",
       "      <td>False</td>\n",
       "      <td>False</td>\n",
       "      <td>False</td>\n",
       "      <td>False</td>\n",
       "      <td>False</td>\n",
       "      <td>False</td>\n",
       "      <td>False</td>\n",
       "      <td>True</td>\n",
       "      <td>False</td>\n",
       "    </tr>\n",
       "    <tr>\n",
       "      <th>2</th>\n",
       "      <td>False</td>\n",
       "      <td>False</td>\n",
       "      <td>False</td>\n",
       "      <td>False</td>\n",
       "      <td>True</td>\n",
       "      <td>False</td>\n",
       "      <td>False</td>\n",
       "      <td>False</td>\n",
       "      <td>False</td>\n",
       "    </tr>\n",
       "  </tbody>\n",
       "</table>\n",
       "</div>"
      ],
      "text/plain": [
       "   Anime  Blues  Classical  Country  Electronic  Hip-Hop   Jazz    Rap   Rock\n",
       "0  False  False      False    False       False    False   True  False  False\n",
       "1  False  False      False    False       False    False  False   True  False\n",
       "2  False  False      False    False        True    False  False  False  False"
      ]
     },
     "execution_count": 53,
     "metadata": {},
     "output_type": "execute_result"
    }
   ],
   "source": [
    "music_dummies = pd.get_dummies(music_df['genre'], drop_first= True)\n",
    "music_dummies.head(3)"
   ]
  },
  {
   "cell_type": "code",
   "execution_count": 54,
   "metadata": {},
   "outputs": [
    {
     "data": {
      "text/plain": [
       "Anime         bool\n",
       "Blues         bool\n",
       "Classical     bool\n",
       "Country       bool\n",
       "Electronic    bool\n",
       "Hip-Hop       bool\n",
       "Jazz          bool\n",
       "Rap           bool\n",
       "Rock          bool\n",
       "dtype: object"
      ]
     },
     "execution_count": 54,
     "metadata": {},
     "output_type": "execute_result"
    }
   ],
   "source": [
    "music_dummies.dtypes"
   ]
  },
  {
   "cell_type": "code",
   "execution_count": 55,
   "metadata": {},
   "outputs": [],
   "source": [
    "# Convert True/False to 1/0 using .replace()\n",
    "music_dummies = music_dummies.replace({True: 1, False: 0})\n"
   ]
  },
  {
   "cell_type": "code",
   "execution_count": 56,
   "metadata": {},
   "outputs": [
    {
     "data": {
      "text/html": [
       "<div>\n",
       "<style scoped>\n",
       "    .dataframe tbody tr th:only-of-type {\n",
       "        vertical-align: middle;\n",
       "    }\n",
       "\n",
       "    .dataframe tbody tr th {\n",
       "        vertical-align: top;\n",
       "    }\n",
       "\n",
       "    .dataframe thead th {\n",
       "        text-align: right;\n",
       "    }\n",
       "</style>\n",
       "<table border=\"1\" class=\"dataframe\">\n",
       "  <thead>\n",
       "    <tr style=\"text-align: right;\">\n",
       "      <th></th>\n",
       "      <th>Anime</th>\n",
       "      <th>Blues</th>\n",
       "      <th>Classical</th>\n",
       "      <th>Country</th>\n",
       "      <th>Electronic</th>\n",
       "      <th>Hip-Hop</th>\n",
       "      <th>Jazz</th>\n",
       "      <th>Rap</th>\n",
       "      <th>Rock</th>\n",
       "    </tr>\n",
       "  </thead>\n",
       "  <tbody>\n",
       "    <tr>\n",
       "      <th>0</th>\n",
       "      <td>0</td>\n",
       "      <td>0</td>\n",
       "      <td>0</td>\n",
       "      <td>0</td>\n",
       "      <td>0</td>\n",
       "      <td>0</td>\n",
       "      <td>1</td>\n",
       "      <td>0</td>\n",
       "      <td>0</td>\n",
       "    </tr>\n",
       "    <tr>\n",
       "      <th>1</th>\n",
       "      <td>0</td>\n",
       "      <td>0</td>\n",
       "      <td>0</td>\n",
       "      <td>0</td>\n",
       "      <td>0</td>\n",
       "      <td>0</td>\n",
       "      <td>0</td>\n",
       "      <td>1</td>\n",
       "      <td>0</td>\n",
       "    </tr>\n",
       "    <tr>\n",
       "      <th>2</th>\n",
       "      <td>0</td>\n",
       "      <td>0</td>\n",
       "      <td>0</td>\n",
       "      <td>0</td>\n",
       "      <td>1</td>\n",
       "      <td>0</td>\n",
       "      <td>0</td>\n",
       "      <td>0</td>\n",
       "      <td>0</td>\n",
       "    </tr>\n",
       "  </tbody>\n",
       "</table>\n",
       "</div>"
      ],
      "text/plain": [
       "   Anime  Blues  Classical  Country  Electronic  Hip-Hop  Jazz  Rap  Rock\n",
       "0      0      0          0        0           0        0     1    0     0\n",
       "1      0      0          0        0           0        0     0    1     0\n",
       "2      0      0          0        0           1        0     0    0     0"
      ]
     },
     "execution_count": 56,
     "metadata": {},
     "output_type": "execute_result"
    }
   ],
   "source": [
    "music_dummies.head(3)"
   ]
  },
  {
   "cell_type": "code",
   "execution_count": 57,
   "metadata": {},
   "outputs": [],
   "source": [
    "music_df = pd.concat([music_df , music_dummies], axis = 1)"
   ]
  },
  {
   "cell_type": "code",
   "execution_count": 64,
   "metadata": {},
   "outputs": [],
   "source": [
    "music_df = music_df.drop('genre', axis=1)\n"
   ]
  },
  {
   "cell_type": "code",
   "execution_count": 65,
   "metadata": {},
   "outputs": [
    {
     "data": {
      "text/plain": [
       "Index(['popularity', 'acousticness', 'danceability', 'duration_ms', 'energy',\n",
       "       'instrumentalness', 'liveness', 'loudness', 'speechiness', 'tempo',\n",
       "       'valence'],\n",
       "      dtype='object')"
      ]
     },
     "execution_count": 65,
     "metadata": {},
     "output_type": "execute_result"
    }
   ],
   "source": [
    "music_df.columns"
   ]
  },
  {
   "cell_type": "code",
   "execution_count": 67,
   "metadata": {},
   "outputs": [
    {
     "name": "stdout",
     "output_type": "stream",
     "text": [
      "popularity          float64\n",
      "acousticness        float64\n",
      "danceability        float64\n",
      "duration_ms         float64\n",
      "energy              float64\n",
      "instrumentalness    float64\n",
      "liveness            float64\n",
      "loudness            float64\n",
      "speechiness         float64\n",
      "tempo               float64\n",
      "valence             float64\n",
      "dtype: object\n"
     ]
    }
   ],
   "source": [
    "print(music_df.dtypes)\n"
   ]
  },
  {
   "cell_type": "code",
   "execution_count": 68,
   "metadata": {},
   "outputs": [
    {
     "name": "stdout",
     "output_type": "stream",
     "text": [
      "Shape of music_dummies: (1000, 20)\n"
     ]
    }
   ],
   "source": [
    "# Print the new DataFrame's shape\n",
    "print(\"Shape of music_dummies: {}\".format(music_dummies.shape))"
   ]
  },
  {
   "cell_type": "code",
   "execution_count": 69,
   "metadata": {},
   "outputs": [],
   "source": [
    "import pandas as pd\n",
    "import numpy as np\n",
    "from urllib.request import urlretrieve\n",
    "from sklearn.model_selection import cross_val_score, KFold, train_test_split\n",
    "from sklearn.linear_model import Ridge\n",
    "from sklearn.preprocessing import StandardScaler\n",
    "\n",
    "link = \"https://assets.datacamp.com/production/repositories/5981/datasets/fea5cd4c72c2346dafffb0a5ae425006968f4e00/music_ch4_l1.csv\"\n",
    "music_df = pd.read_csv(urlretrieve(link, 'music_ch4_l1.csv')[0])\n",
    "music_dummies = pd.get_dummies(music_df, drop_first=True)\n",
    "kf = KFold(n_splits=5, shuffle=True, random_state=42)"
   ]
  },
  {
   "cell_type": "code",
   "execution_count": 75,
   "metadata": {},
   "outputs": [],
   "source": [
    "# Create X and y\n",
    "X = music_df.drop(['popularity', 'genre'] , axis = 1)\n",
    "y = music_df['popularity']\n"
   ]
  },
  {
   "cell_type": "code",
   "execution_count": 76,
   "metadata": {},
   "outputs": [
    {
     "data": {
      "text/plain": [
       "acousticness        float64\n",
       "danceability        float64\n",
       "duration_ms         float64\n",
       "energy              float64\n",
       "instrumentalness    float64\n",
       "liveness            float64\n",
       "loudness            float64\n",
       "speechiness         float64\n",
       "tempo               float64\n",
       "valence             float64\n",
       "dtype: object"
      ]
     },
     "execution_count": 76,
     "metadata": {},
     "output_type": "execute_result"
    }
   ],
   "source": [
    "X.dtypes"
   ]
  },
  {
   "cell_type": "code",
   "execution_count": 77,
   "metadata": {},
   "outputs": [
    {
     "name": "stdout",
     "output_type": "stream",
     "text": [
      "Average RMSE: 12.631411114496892\n",
      "Standard Deviation of the target array: 14.02156909907019\n"
     ]
    }
   ],
   "source": [
    "\n",
    "# Instantiate a ridge model\n",
    "ridge =Ridge()\n",
    "\n",
    "# Perform cross-validation\n",
    "scores = cross_val_score(ridge, X, y, cv=kf, scoring=\"neg_mean_squared_error\")\n",
    "\n",
    "# Calculate RMSE\n",
    "rmse = np.sqrt(abs(scores))\n",
    "print(\"Average RMSE: {}\".format(np.mean(rmse)))\n",
    "print(\"Standard Deviation of the target array: {}\".format(np.std(y)))"
   ]
  },
  {
   "cell_type": "markdown",
   "metadata": {},
   "source": [
    "### Dropping Missing Values < 5%"
   ]
  },
  {
   "cell_type": "code",
   "execution_count": 93,
   "metadata": {},
   "outputs": [],
   "source": [
    "import pandas as pd\n",
    "import numpy as np\n",
    "from urllib.request import urlretrieve\n",
    "from sklearn.neighbors import KNeighborsClassifier\n",
    "\n",
    "link = \"https://assets.datacamp.com/production/repositories/5981/datasets/b0d796dedecb99ccbab705512fc89b1b627db8bf/music_messy.csv\"\n",
    "music_df = pd.read_csv(urlretrieve(link, 'music_messy.csv')[0])"
   ]
  },
  {
   "cell_type": "code",
   "execution_count": 80,
   "metadata": {},
   "outputs": [
    {
     "data": {
      "text/plain": [
       "(1000, 12)"
      ]
     },
     "execution_count": 80,
     "metadata": {},
     "output_type": "execute_result"
    }
   ],
   "source": [
    "music_df.shape"
   ]
  },
  {
   "cell_type": "code",
   "execution_count": 79,
   "metadata": {},
   "outputs": [
    {
     "data": {
      "text/plain": [
       "genre                 8\n",
       "popularity           31\n",
       "loudness             44\n",
       "liveness             46\n",
       "tempo                46\n",
       "speechiness          59\n",
       "duration_ms          91\n",
       "instrumentalness     91\n",
       "danceability        143\n",
       "valence             143\n",
       "acousticness        200\n",
       "energy              200\n",
       "dtype: int64"
      ]
     },
     "execution_count": 79,
     "metadata": {},
     "output_type": "execute_result"
    }
   ],
   "source": [
    "music_df.isna().sum().sort_values()"
   ]
  },
  {
   "cell_type": "code",
   "execution_count": 82,
   "metadata": {},
   "outputs": [],
   "source": [
    "music_df = music_df.dropna(subset= ['tempo', 'genre', 'popularity', 'liveness', 'loudness'])"
   ]
  },
  {
   "cell_type": "code",
   "execution_count": 83,
   "metadata": {},
   "outputs": [
    {
     "data": {
      "text/plain": [
       "popularity            0\n",
       "liveness              0\n",
       "loudness              0\n",
       "tempo                 0\n",
       "genre                 0\n",
       "duration_ms          29\n",
       "instrumentalness     29\n",
       "speechiness          53\n",
       "danceability        127\n",
       "valence             127\n",
       "acousticness        178\n",
       "energy              178\n",
       "dtype: int64"
      ]
     },
     "execution_count": 83,
     "metadata": {},
     "output_type": "execute_result"
    }
   ],
   "source": [
    "music_df.isna().sum().sort_values()"
   ]
  },
  {
   "cell_type": "code",
   "execution_count": 84,
   "metadata": {},
   "outputs": [
    {
     "name": "stderr",
     "output_type": "stream",
     "text": [
      "C:\\Users\\Koko Ellally\\AppData\\Local\\Temp\\ipykernel_17240\\3682307541.py:1: SettingWithCopyWarning: \n",
      "A value is trying to be set on a copy of a slice from a DataFrame.\n",
      "Try using .loc[row_indexer,col_indexer] = value instead\n",
      "\n",
      "See the caveats in the documentation: https://pandas.pydata.org/pandas-docs/stable/user_guide/indexing.html#returning-a-view-versus-a-copy\n",
      "  music_df['genre'] = np.where(music_df['genre'] == 'Rock', 1, 0)\n"
     ]
    }
   ],
   "source": [
    "music_df['genre'] = np.where(music_df['genre'] == 'Rock', 1, 0)\n"
   ]
  },
  {
   "cell_type": "code",
   "execution_count": 91,
   "metadata": {},
   "outputs": [
    {
     "data": {
      "text/plain": [
       "446"
      ]
     },
     "execution_count": 91,
     "metadata": {},
     "output_type": "execute_result"
    }
   ],
   "source": [
    "np.sum(music_df['genre'] == 1)"
   ]
  },
  {
   "cell_type": "code",
   "execution_count": 92,
   "metadata": {},
   "outputs": [
    {
     "name": "stdout",
     "output_type": "stream",
     "text": [
      "popularity            0\n",
      "liveness              0\n",
      "loudness              0\n",
      "tempo                 0\n",
      "genre                 0\n",
      "duration_ms          29\n",
      "instrumentalness     29\n",
      "speechiness          53\n",
      "danceability        127\n",
      "valence             127\n",
      "acousticness        178\n",
      "energy              178\n",
      "dtype: int64\n",
      "Shape of the `music_df`: (892, 12)\n"
     ]
    }
   ],
   "source": [
    "print(music_df.isna().sum().sort_values())\n",
    "print(\"Shape of the `music_df`: {}\".format(music_df.shape))"
   ]
  },
  {
   "cell_type": "markdown",
   "metadata": {},
   "source": [
    "###  Pipeline for song genre prediction"
   ]
  },
  {
   "cell_type": "markdown",
   "metadata": {},
   "source": [
    "###  Pipeline for song genre prediction: II\n"
   ]
  },
  {
   "cell_type": "code",
   "execution_count": 95,
   "metadata": {},
   "outputs": [],
   "source": [
    "import pandas as pd\n",
    "import numpy as np\n",
    "from urllib.request import urlretrieve\n",
    "from sklearn.model_selection import train_test_split\n",
    "from sklearn.neighbors import KNeighborsClassifier\n",
    "from sklearn.impute import SimpleImputer\n",
    "from sklearn.pipeline import Pipeline\n",
    "from sklearn.metrics import confusion_matrix\n",
    "link = \"https://assets.datacamp.com/production/repositories/5981/datasets/1de4ac3f51c0f9f8ba37b39c672ba021a2e99a15/music_v2.csv\"\n",
    "music_df = pd.read_csv(urlretrieve(link, 'music_v2.csv')[0])\n",
    "music_df.dropna(subset=[\"genre\", \"popularity\", \"loudness\", \"liveness\", \"tempo\"], inplace=True)\n",
    "# music_df[\"genre\"] = np.where(music_df[\"genre\"] == \"Rock\", 1, 0)\n",
    "imp_mean = SimpleImputer(strategy=\"mean\")\n",
    "knn = KNeighborsClassifier(n_neighbors=3)\n",
    "y = music_df[\"genre\"].values\n",
    "X = music_df.drop(\"genre\", axis=1).values\n",
    "X_train, X_test, y_train, y_test = train_test_split(X, y, test_size=0.2, \n",
    "                                                    random_state=42)"
   ]
  },
  {
   "cell_type": "code",
   "execution_count": 99,
   "metadata": {},
   "outputs": [],
   "source": [
    "# Import modules\n",
    "from sklearn.pipeline import Pipeline\n",
    "from sklearn.neighbors import KNeighborsClassifier\n",
    "from sklearn.impute import SimpleImputer\n",
    "\n",
    "# Instantiate an imputer\n",
    "imputer = SimpleImputer()\n",
    "\n",
    "# Instantiate a knn model\n",
    "knn = KNeighborsClassifier()\n",
    "\n",
    "# Build steps for the pipeline\n",
    "steps = [(\"imputation\", imputer), \n",
    "         (\"k_nearest_neighbors\", knn)]\n",
    "\n",
    "pipeline = Pipeline(steps)\n"
   ]
  },
  {
   "cell_type": "code",
   "execution_count": 100,
   "metadata": {},
   "outputs": [],
   "source": [
    "pipeline.fit(X_train, y_train)\n",
    "y_hat = pipeline.predict(X_test)"
   ]
  },
  {
   "cell_type": "code",
   "execution_count": 101,
   "metadata": {},
   "outputs": [
    {
     "name": "stdout",
     "output_type": "stream",
     "text": [
      "[[77 11]\n",
      " [ 4 82]]\n"
     ]
    }
   ],
   "source": [
    "print(confusion_matrix(y_test, y_hat))"
   ]
  },
  {
   "cell_type": "markdown",
   "metadata": {},
   "source": [
    "### Standard Scaler\n"
   ]
  },
  {
   "cell_type": "code",
   "execution_count": 102,
   "metadata": {},
   "outputs": [],
   "source": [
    "import pandas as pd\n",
    "import numpy as np\n",
    "from urllib.request import urlretrieve\n",
    "from sklearn.linear_model import Lasso\n",
    "from sklearn.model_selection import train_test_split\n",
    "from sklearn.pipeline import Pipeline\n",
    "link = \"https://assets.datacamp.com/production/repositories/5981/datasets/2faa6dc465fa0facb9102aee40344e216d9cb8db/music_clean_v2.csv\"\n",
    "music_df = pd.read_csv(urlretrieve(link, 'music_clean_v2.csv')[0])\n",
    "X = music_df.drop(\"loudness\", axis=1).values\n",
    "y = music_df[\"loudness\"].values\n",
    "X_train, X_test, y_train, y_test = train_test_split(X, y, test_size=0.3, random_state=31)"
   ]
  },
  {
   "cell_type": "code",
   "execution_count": 103,
   "metadata": {},
   "outputs": [
    {
     "name": "stdout",
     "output_type": "stream",
     "text": [
      "0.6193523316282489\n"
     ]
    }
   ],
   "source": [
    "# Import StandardScaler\n",
    "from sklearn.preprocessing import StandardScaler\n",
    "\n",
    "# Create pipeline steps\n",
    "steps = [(\"scaler\", StandardScaler()),\n",
    "         (\"lasso\", Lasso(alpha=0.5))]\n",
    "\n",
    "# Instantiate the pipeline\n",
    "pipeline = Pipeline(steps)\n",
    "pipeline.fit(X_train, y_train)\n",
    "\n",
    "# Calculate and print R-squared\n",
    "print(pipeline.score(X_test, y_test))"
   ]
  },
  {
   "cell_type": "markdown",
   "metadata": {},
   "source": [
    "#### Exercise 7: GridSearchCV, StandardScaler, Pipeline"
   ]
  },
  {
   "cell_type": "code",
   "execution_count": 108,
   "metadata": {},
   "outputs": [],
   "source": [
    "import pandas as pd\n",
    "import numpy as np\n",
    "from urllib.request import urlretrieve\n",
    "from sklearn.preprocessing import StandardScaler\n",
    "from sklearn.linear_model import LogisticRegression\n",
    "from sklearn.model_selection import train_test_split, GridSearchCV\n",
    "from sklearn.pipeline import Pipeline\n",
    "link = \"https://assets.datacamp.com/production/repositories/5981/datasets/2faa6dc465fa0facb9102aee40344e216d9cb8db/music_clean_v2.csv\"\n",
    "music = pd.read_csv(urlretrieve(link, \"music_clean_v2.csv\")[0])\n",
    "X = music.drop(\"genre\", axis=1).values\n",
    "y = music[\"genre\"].values"
   ]
  },
  {
   "cell_type": "code",
   "execution_count": 115,
   "metadata": {},
   "outputs": [
    {
     "name": "stdout",
     "output_type": "stream",
     "text": [
      "0.7849999999999999 \n",
      " {'logreg__C': 0.001}\n"
     ]
    }
   ],
   "source": [
    "# Build the steps\n",
    "steps = [(\"scaler\", StandardScaler()),\n",
    "         (\"logreg\", LogisticRegression())]\n",
    "pipeline = Pipeline(steps)\n",
    "\n",
    "# Create the parameter space\n",
    "parameters = {\"logreg__C\": np.arange(0.001, 1, 200)}\n",
    "X_train, X_test, y_train, y_test = train_test_split(X, y, test_size=0.2, \n",
    "                                                    random_state=21)\n",
    "\n",
    "# Instantiate the grid search object\n",
    "cv = GridSearchCV(pipeline, param_grid=parameters)\n",
    "\n",
    "# Fit to the training data\n",
    "cv.fit(X_train, y_train)\n",
    "print(cv.best_score_, \"\\n\", cv.best_params_)"
   ]
  },
  {
   "cell_type": "markdown",
   "metadata": {},
   "source": [
    "#### Visualizing regression model performance\n"
   ]
  },
  {
   "cell_type": "code",
   "execution_count": 117,
   "metadata": {},
   "outputs": [],
   "source": [
    "import pandas as pd\n",
    "import numpy as np\n",
    "import matplotlib.pyplot as plt\n",
    "from urllib.request import urlretrieve\n",
    "from sklearn.preprocessing import StandardScaler\n",
    "from sklearn.linear_model import LinearRegression, Ridge, Lasso\n",
    "from sklearn.model_selection import train_test_split, cross_val_score, KFold\n",
    "link = \"https://assets.datacamp.com/production/repositories/5981/datasets/2faa6dc465fa0facb9102aee40344e216d9cb8db/music_clean_v2.csv\"\n",
    "music = pd.read_csv(urlretrieve(link, \"music_clean_v2.csv\")[0])\n",
    "dummy_df = pd.get_dummies(music, prefix=\"\", prefix_sep=\"\")\n",
    "X = dummy_df.drop(\"energy\", axis=1).values\n",
    "y = dummy_df[\"energy\"].values\n",
    "X_train, X_test, y_train, y_test = train_test_split(X, y, random_state=12)\n",
    "scaler = StandardScaler()\n",
    "X_train = scaler.fit_transform(X_train)\n",
    "X_test = scaler.transform(X_test)"
   ]
  },
  {
   "cell_type": "code",
   "execution_count": 120,
   "metadata": {},
   "outputs": [
    {
     "data": {
      "image/png": "[encoded data removed]",
      "text/plain": [
       "<Figure size 640x480 with 1 Axes>"
      ]
     },
     "metadata": {},
     "output_type": "display_data"
    }
   ],
   "source": [
    "\n",
    "models = {\"Linear Regression\": LinearRegression(), \"Ridge\": Ridge(alpha=0.1), \"Lasso\": Lasso(alpha=0.1)}\n",
    "results = []\n",
    "\n",
    "# Loop through the models' values\n",
    "for model in models.values():\n",
    "  kf = KFold(n_splits=6, random_state=42, shuffle=True)\n",
    "  \n",
    "  # Perform cross-validation\n",
    "  cv_scores = cross_val_score(model ,X_train, y_train, cv=kf)\n",
    "  \n",
    "  # Append the results\n",
    "  results.append(cv_scores)\n",
    "\n",
    "# Create a box plot of the results\n",
    "plt.boxplot(results, labels=models.keys())\n",
    "plt.show()"
   ]
  },
  {
   "cell_type": "code",
   "execution_count": 122,
   "metadata": {},
   "outputs": [],
   "source": [
    "import pandas as pd\n",
    "import numpy as np\n",
    "from urllib.request import urlretrieve\n",
    "from sklearn.preprocessing import StandardScaler\n",
    "from sklearn.linear_model import LinearRegression, Ridge\n",
    "from sklearn.model_selection import train_test_split\n",
    "link = \"https://assets.datacamp.com/production/repositories/5981/datasets/2faa6dc465fa0facb9102aee40344e216d9cb8db/music_clean_v2.csv\"\n",
    "music = pd.read_csv(urlretrieve(link, \"music_clean_v2.csv\")[0])\n",
    "dummy_df = pd.get_dummies(music, prefix=\"\", prefix_sep=\"\")\n",
    "X = dummy_df.drop(\"energy\", axis=1).values\n",
    "y = dummy_df[\"energy\"].values\n",
    "X_train, X_test, y_train, y_test = train_test_split(X, y, random_state=12)\n",
    "scaler = StandardScaler()\n",
    "X_train_scaled = scaler.fit_transform(X_train)\n",
    "X_test_scaled = scaler.transform(X_test)\n",
    "models = {\"Linear Regression\": LinearRegression(), \"Ridge\": Ridge(alpha=1.0)}"
   ]
  },
  {
   "cell_type": "code",
   "execution_count": 124,
   "metadata": {},
   "outputs": [
    {
     "name": "stdout",
     "output_type": "stream",
     "text": [
      "Linear Regression Test Set RMSE: 0.1198885150594757\n",
      "Ridge Test Set RMSE: 0.11987066103299669\n"
     ]
    }
   ],
   "source": [
    "# Import mean_squared_error\n",
    "from sklearn.metrics import mean_squared_error\n",
    "\n",
    "for name, model in models.items():\n",
    "  \n",
    "  # Fit the model to the training data\n",
    "  model.fit(X_train_scaled, y_train)\n",
    "  \n",
    "  # Make predictions on the test set\n",
    "  y_pred = model.predict(X_test_scaled)\n",
    "  \n",
    "  # Calculate the test_rmse\n",
    "  test_rmse = mean_squared_error(y_test, y_pred, squared=False)\n",
    "  print(\"{} Test Set RMSE: {}\".format(name, test_rmse))"
   ]
  },
  {
   "cell_type": "code",
   "execution_count": 125,
   "metadata": {},
   "outputs": [],
   "source": [
    "import pandas as pd\n",
    "import numpy as np\n",
    "import matplotlib.pyplot as plt\n",
    "from urllib.request import urlretrieve\n",
    "from sklearn.preprocessing import StandardScaler\n",
    "from sklearn.linear_model import LogisticRegression\n",
    "from sklearn.neighbors import KNeighborsClassifier\n",
    "from sklearn.tree import DecisionTreeClassifier\n",
    "from sklearn.model_selection import train_test_split, cross_val_score, KFold\n",
    "link = \"https://assets.datacamp.com/production/repositories/5981/datasets/2faa6dc465fa0facb9102aee40344e216d9cb8db/music_clean_v2.csv\"\n",
    "music = pd.read_csv(urlretrieve(link, \"music_clean_v2.csv\")[0])\n",
    "music[\"popularity_label\"] = np.where(music[\"popularity\"] >= 54.000000, 1, 0)\n",
    "music.drop(\"popularity\", axis=1, inplace=True)\n",
    "X = music.drop(\"popularity_label\", axis=1).values\n",
    "y = music[\"popularity_label\"].values\n",
    "X_train, X_test, y_train, y_test = train_test_split(X, y, random_state=12)\n",
    "scaler = StandardScaler()\n",
    "X_train_scaled = scaler.fit_transform(X_train)\n",
    "X_test_scaled = scaler.transform(X_test)"
   ]
  },
  {
   "cell_type": "markdown",
   "metadata": {},
   "source": [
    "### Instructions \n",
    "\n",
    "- Create a dictionary of `\"Logistic Regression\"`, `\"KNN\"`, and `\"Decision Tree Classifier\"`, setting the dictionary's values to a call of each model.\n",
    "- Loop through the values in `models`.\n",
    "- Instantiate a `KFold` object to perform 6 splits, setting `shuffle` to `True` and `random_state` to `12`.\n",
    "- Perform cross-validation using the model, the scaled training features, the target training set, and setting `cv` equal to `kf`.\n"
   ]
  },
  {
   "cell_type": "code",
   "execution_count": 130,
   "metadata": {},
   "outputs": [
    {
     "data": {
      "image/png": "[encoded data removed]",
      "text/plain": [
       "<Figure size 640x480 with 1 Axes>"
      ]
     },
     "metadata": {},
     "output_type": "display_data"
    }
   ],
   "source": [
    "models = {\"logistic Regression\": LogisticRegression(), \"knn\": KNeighborsClassifier(n_neighbors= 9), \"Decision Tree\": DecisionTreeClassifier()}\n",
    "results = []\n",
    "for model_name, model in models.items():\n",
    "    kf = KFold(n_splits=6, shuffle=True, random_state= 12)\n",
    "    cv_scores = cross_val_score(model, X_train_scaled, y_train, cv = kf)\n",
    "    results.append(cv_scores)\n",
    "\n",
    "plt.boxplot(results, labels=models.keys())\n",
    "plt.show()"
   ]
  },
  {
   "cell_type": "markdown",
   "metadata": {},
   "source": [
    "###  Pipeline for predicting song popularity\n"
   ]
  },
  {
   "cell_type": "code",
   "execution_count": 141,
   "metadata": {},
   "outputs": [],
   "source": [
    "import pandas as pd\n",
    "import numpy as np\n",
    "from urllib.request import urlretrieve\n",
    "from sklearn.impute import SimpleImputer\n",
    "from sklearn.preprocessing import StandardScaler\n",
    "from sklearn.linear_model import LogisticRegression\n",
    "from sklearn.model_selection import train_test_split, GridSearchCV, KFold\n",
    "from sklearn.pipeline import Pipeline\n",
    "link = \"https://assets.datacamp.com/production/repositories/5981/datasets/2faa6dc465fa0facb9102aee40344e216d9cb8db/music_clean_v2.csv\"\n",
    "music = pd.read_csv(urlretrieve(link, 'music_clean_v2.csv')[0])\n",
    "music.dropna(subset=[\"genre\", \"popularity\", \"loudness\", \"liveness\", \"tempo\"], inplace=True)\n",
    "X = music.drop(\"genre\", axis=1).values\n",
    "y = music[\"genre\"].values\n",
    "X_train, X_test, y_train, y_test = train_test_split(X, y, random_state=12)\n",
    "kf = KFold(n_splits=5, shuffle=True, random_state=5)"
   ]
  },
  {
   "cell_type": "markdown",
   "metadata": {},
   "source": [
    "###  Instructions \n",
    "\n",
    "- Create the steps for the pipeline by calling a simple imputer, a standard scaler, and a logistic regression model.\n",
    "- Create a pipeline object, and pass the `steps` variable.\n",
    "- Instantiate a grid search object to perform cross-validation using the pipeline and the parameters.\n",
    "- Print the best parameters and compute and print the test set accuracy score for the grid search object."
   ]
  },
  {
   "cell_type": "code",
   "execution_count": 144,
   "metadata": {},
   "outputs": [],
   "source": [
    "from sklearn.impute import SimpleImputer\n",
    "from sklearn.preprocessing import StandardScaler\n",
    "from sklearn.linear_model import LogisticRegression\n",
    "\n",
    "steps = [('imputer', SimpleImputer()),\n",
    "         ('scaler', StandardScaler()),\n",
    "         ('logreg', LogisticRegression())]\n",
    "\n",
    "pipeline = Pipeline(steps)\n",
    "params = {\"logreg__solver\": [\"newton-cg\", \"saga\", \"lbfgs\"],\n",
    "         \"logreg__C\": np.linspace(0.001, 1.0, 10)}\n",
    "\n",
    "tuning = GridSearchCV(pipeline, param_grid=params)\n",
    "tuning.fit(X_train, y_train)\n",
    "y_pred = tuning.predict(X_test)"
   ]
  },
  {
   "cell_type": "code",
   "execution_count": 145,
   "metadata": {},
   "outputs": [
    {
     "name": "stdout",
     "output_type": "stream",
     "text": [
      "Tuned Logistic Regression Parameters: {'logreg__C': 0.112, 'logreg__solver': 'newton-cg'}, Accuracy: 0.82\n"
     ]
    }
   ],
   "source": [
    "print(\"Tuned Logistic Regression Parameters: {}, Accuracy: {}\".format(tuning.best_params_, tuning.score(X_test, y_test)))"
   ]
  },
  {
   "cell_type": "code",
   "execution_count": null,
   "metadata": {},
   "outputs": [],
   "source": []
  }
 ],
 "metadata": {
  "kernelspec": {
   "display_name": "Python 3",
   "language": "python",
   "name": "python3"
  },
  "language_info": {
   "codemirror_mode": {
    "name": "ipython",
    "version": 3
   },
   "file_extension": ".py",
   "mimetype": "text/x-python",
   "name": "python",
   "nbconvert_exporter": "python",
   "pygments_lexer": "ipython3",
   "version": "3.11.5"
  }
 },
 "nbformat": 4,
 "nbformat_minor": 2
}
